{
 "cells": [
  {
   "cell_type": "code",
   "execution_count": 1,
   "metadata": {},
   "outputs": [
    {
     "ename": "SyntaxError",
     "evalue": "invalid syntax (utils.py, line 271)",
     "output_type": "error",
     "traceback": [
      "Traceback \u001b[0;36m(most recent call last)\u001b[0m:\n",
      "  File \u001b[1;32m\"/home/akanksha/.virtualenv/t-rex/lib/python3.6/site-packages/IPython/core/interactiveshell.py\"\u001b[0m, line \u001b[1;32m3296\u001b[0m, in \u001b[1;35mrun_code\u001b[0m\n    exec(code_obj, self.user_global_ns, self.user_ns)\n",
      "\u001b[0;36m  File \u001b[0;32m\"<ipython-input-1-d343b8eae463>\"\u001b[0;36m, line \u001b[0;32m1\u001b[0;36m, in \u001b[0;35m<module>\u001b[0;36m\u001b[0m\n\u001b[0;31m    import utils\u001b[0m\n",
      "\u001b[0;36m  File \u001b[0;32m\"/home/akanksha/ICML2019-TREX/atari/utils.py\"\u001b[0;36m, line \u001b[0;32m271\u001b[0m\n\u001b[0;31m    elif use_gaze:\u001b[0m\n\u001b[0m       ^\u001b[0m\n\u001b[0;31mSyntaxError\u001b[0m\u001b[0;31m:\u001b[0m invalid syntax\n"
     ]
    }
   ],
   "source": [
    "import utils\n",
    "from os import path\n",
    "import cv2\n",
    "import numpy as np\n",
    "from os import path, listdir\n",
    "import matplotlib.pyplot as plt\n",
    "import gaze_heatmap as gh"
   ]
  },
  {
   "cell_type": "code",
   "execution_count": null,
   "metadata": {
    "collapsed": true
   },
   "outputs": [],
   "source": [
    "#load 16 consecutive images starting from start_img_idx\n",
    "start_img_idx = 0\n",
    "img_dir = '/home/akanksha/Documents/behavioral_cloning_atari/data/DREYEVE_dummy/01/etg_imgs/'\n",
    "imgs = []\n",
    "for i in range(16):\n",
    "    img = cv2.imread(img_dir+str(start_img_idx+i)+'.png')\n",
    "    imgs.append(img)"
   ]
  },
  {
   "cell_type": "code",
   "execution_count": null,
   "metadata": {
    "collapsed": true
   },
   "outputs": [],
   "source": [
    "fig = plt.figure(figsize=(15,15))\n",
    "c=0\n",
    "\n",
    "gaze = []\n",
    "conv_size = 20\n",
    "height, width = imgs[0].shape[0], imgs[0].shape[1]\n",
    "gt_gaze = np.zeros((height,width,3))\n",
    "last_img = imgs[15]\n",
    "gaze_file = '/home/akanksha/Documents/behavioral_cloning_atari/data/DREYEVE_dummy/01/etg_samples.txt'\n",
    "\n",
    "## load corresponding GT gaze text file\n",
    "# raw gaze coord circles on image\n",
    "with open(gaze_file) as f:\n",
    "    for i, line in enumerate(f):\n",
    "        if i>0: #coz 1st line in text file is metadata\n",
    "            #frame,reward,score,terminal, action\n",
    "            curr_data = line.rstrip('\\n').split(' ')\n",
    "            gaze_coords = [curr_data[2], curr_data[3]]# if curr_data[4]=='Fixation'] #X,Y coords\n",
    "            gaze.append(gaze_coords)\n",
    "            \n",
    "            if i in k:\n",
    "                c+=1\n",
    "                # overlay gaze coordinates on img\n",
    "                img_full = imgs[c*4-1]\n",
    "                #  normalized image to scaled and converted to uint8 for image processing\n",
    "                img = 255*masked[:,:,:,c-1].squeeze()\n",
    "                img = img.astype(np.uint8)\n",
    "\n",
    "                h, w = img.shape[0], img.shape[1]\n",
    "\n",
    "                for j in range(0,len(gaze_coords),2):\n",
    "    #                 if('null' not in gaze_coords[j]):\n",
    "                    x = float(gaze_coords[j])\n",
    "                    y = float(gaze_coords[j+1])\n",
    "                    x_norm, y_norm = x/width, y/height\n",
    "                    x1, y1 = int(x_norm*w), int(y_norm*h)\n",
    "                    cv2.circle(img, (x1,y1), 3, (255,255,255), thickness=1, lineType=8)\n",
    "                    cv2.circle(img_full, (int(x),int(y)), 3, (255,255,255), thickness=1, lineType=8)\n",
    "                    cv2.circle(gt_gaze, (int(x),int(y)), 3, (255,255,255), thickness=1, lineType=8)\n",
    "                    cv2.circle(last_img, (int(x),int(y)), 3, (255,255,255), thickness=1, lineType=8)\n",
    "\n",
    "                ax1 = fig.add_subplot(4,4,c+4)\n",
    "                ax1.imshow(img)\n",
    "                ax1.title.set_text('Masked img '+str(c))\n",
    "                ax2 = fig.add_subplot(4,4,c)\n",
    "                ax2.imshow(img_full)\n",
    "                ax2.title.set_text('Original Img '+str(c))\n",
    "                "
   ]
  },
  {
   "cell_type": "code",
   "execution_count": null,
   "metadata": {
    "collapsed": true
   },
   "outputs": [],
   "source": [
    "for j in range(4):\n",
    "    continue\n",
    "print(j)\n",
    "print('total gaze lines in txt file: ',i)           \n",
    "# gaze coords + blurring\n",
    "# print(gaze)\n",
    "h = gh.DatasetWithHeatmap()\n",
    "g = h.createGazeHeatmap(gaze, conv_size)\n",
    "print('g from txt:',g.shape)\n",
    "maxed_gaze = utils.MaxSkipGaze(g, conv_size)               \n",
    "stacked_gaze = utils.CollapseGaze(maxed_gaze, conv_size)\n",
    "print(len(stacked_gaze), g.shape, stacked_gaze[0].shape)\n",
    "ax3 = fig.add_subplot(4,4,9)\n",
    "ax3.imshow(stacked_gaze[0].squeeze()*255)\n",
    "ax3.title.set_text('Gaze from txt')\n",
    "# plt.imshow(stacked_gaze[0].squeeze()*255)\n",
    "\n",
    "\n",
    "# Overlaying GT gaze from txt file on one image\n",
    "ax5 = fig.add_subplot(4,4,11)\n",
    "ax5.imshow(gt_gaze)\n",
    "ax5.title.set_text('GT gaze from txt')\n",
    "assert(gt_gaze.shape[0]==height)\n",
    "\n",
    "#not a good way to generate gaze heatmap\n",
    "gt_gaze = cv2.resize(gt_gaze, (conv_size, conv_size))\n",
    "ax6 = fig.add_subplot(4,4,12)\n",
    "ax6.imshow(gt_gaze)\n",
    "ax6.title.set_text('GT gaze reshaped')\n",
    "\n",
    "\n",
    "ax6 = fig.add_subplot(4,4,14)\n",
    "ax6.imshow(last_img)\n",
    "ax6.title.set_text('Last img in stack + all gaze')"
   ]
  }
 ],
 "metadata": {
  "kernelspec": {
   "display_name": "gazeNetwork",
   "language": "python",
   "name": "gazenetwork"
  },
  "language_info": {
   "codemirror_mode": {
    "name": "ipython",
    "version": 3
   },
   "file_extension": ".py",
   "mimetype": "text/x-python",
   "name": "python",
   "nbconvert_exporter": "python",
   "pygments_lexer": "ipython3",
   "version": "3.6.7"
  }
 },
 "nbformat": 4,
 "nbformat_minor": 2
}
